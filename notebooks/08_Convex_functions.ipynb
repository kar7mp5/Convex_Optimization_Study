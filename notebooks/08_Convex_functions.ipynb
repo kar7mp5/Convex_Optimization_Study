{
    "nbformat": 4,
    "nbformat_minor": 0,
    "metadata": {
      "colab": {
        "name": "08_Convex_functions.ipynb",
        "provenance": [],
        "collapsed_sections": [],
        "include_colab_link": true
      },
      "kernelspec": {
        "display_name": "Python 3",
        "language": "python",
        "name": "python3"
      }
    },
    "cells": [
      {
        "cell_type": "markdown",
        "metadata": {
          "id": "view-in-github",
          "colab_type": "text"
        },
        "source": [
          "<a href=\"https://colab.research.google.com/gist/jonghank/241addad7af4aad2ed0ddca57fbfd573/convex_functions.ipynb\" target=\"_parent\"><img src=\"https://colab.research.google.com/assets/colab-badge.svg\" alt=\"Open In Colab\"/></a>"
        ]
      },
      {
        "cell_type": "markdown",
        "metadata": {
          "id": "GY_tlKGhFh6V"
        },
        "source": [
          "# Convex functions\n",
          "\n",
          "$$\n",
          "\\newcommand{\\eg}{{\\it e.g.}}\n",
          "\\newcommand{\\ie}{{\\it i.e.}}\n",
          "\\newcommand{\\argmin}{\\operatornamewithlimits{argmin}}\n",
          "\\newcommand{\\mc}{\\mathcal}\n",
          "\\newcommand{\\mb}{\\mathbb}\n",
          "\\newcommand{\\mf}{\\mathbf}\n",
          "\\newcommand{\\minimize}{{\\text{minimize}}}\n",
          "\\newcommand{\\argmin}{{\\text{argmin}}}\n",
          "\\newcommand{\\diag}{{\\text{diag}}}\n",
          "\\newcommand{\\cond}{{\\text{cond}}}\n",
          "\\newcommand{\\rank}{{\\text{rank }}}\n",
          "\\newcommand{\\range}{{\\mathcal{R}}}\n",
          "\\newcommand{\\null}{{\\mathcal{N}}}\n",
          "\\newcommand{\\tr}{{\\text{trace}}}\n",
          "\\newcommand{\\dom}{{\\text{dom}}}\n",
          "\\newcommand{\\dist}{{\\text{dist}}}\n",
          "\\newcommand{\\E}{\\mathbf{E}}\n",
          "\\newcommand{\\var}{\\mathbf{var}}\n",
          "\\newcommand{\\R}{\\mathbf{R}}\n",
          "\\newcommand{\\SM}{\\mathbf{S}}\n",
          "\\newcommand{\\ball}{\\mathcal{B}}\n",
          "\\newcommand{\\bmat}[1]{\\begin{bmatrix}#1\\end{bmatrix}}\n",
          "$$\n"
        ]
      },
      {
        "cell_type": "markdown",
        "metadata": {
          "id": "dcn4VDPcFh6Y"
        },
        "source": [
          "__<div style=\"text-align: right\"> ASE7030: Convex Optimization, Inha University. </div>__\n",
          "_<div style=\"text-align: right\"> Jong-Han Kim (jonghank@inha.ac.kr) </div>_\n"
        ]
      },
      {
        "cell_type": "markdown",
        "metadata": {
          "id": "p1KVdQ8vunOC"
        },
        "source": [
          "<br>\n",
          "\n",
          "### Definition\n",
          "\n",
          "$f:\\R^n\\rightarrow \\R$ is convex if $\\dom f$ is a convex set and\n",
          "\n",
          "$$\n",
          "  f\\left( \\theta x + (1-\\theta)y\\right) \\le \\theta f(x) + (1-\\theta) f(y)\n",
          "$$\n",
          "\n",
          "for all $x,y\\in \\dom f$ and  $0\\le \\theta\\le 1$.\n",
          "\n",
          "- $f$ is concave is $-f$ is convex\n",
          "- $f$ is strictly convex if $\\dom f$ is convex and\n",
          "$$\n",
          "  f\\left( \\theta x + (1-\\theta)y\\right) < \\theta f(x) + (1-\\theta) f(y)\n",
          "$$\n",
          "for all $x,y\\in \\dom f$, $x\\ne y$, and  $0\\le \\theta\\le 1$.\n",
          "- $f$ is affine if $a$ is convex and concave\n",
          "\n"
        ]
      },
      {
        "cell_type": "markdown",
        "metadata": {
          "id": "lQqZRYttYEJY"
        },
        "source": [
          "<br>\n",
          "\n",
          "### Convexity condition\n",
          "\n",
          "- 1st order condition: differentiable $f$ with convex domain is convex if and only if\n",
          "\n",
          "$$\n",
          "f(y) \\ge f(x) + \\nabla f(x)^T (y-x) \\quad \\text{for all } x,y\\in\\dom f\n",
          "$$\n",
          "\n",
          "- 2nd order condition: twice differentiable $f$ with convex domain is convex if and only if\n",
          "\n",
          "$$\n",
          "\\nabla^2 f(x) \\succeq 0 \\quad \\text{for all } x\\in\\dom f\n",
          "$$\n"
        ]
      },
      {
        "cell_type": "markdown",
        "metadata": {
          "id": "Gf0plaaM5kg4"
        },
        "source": [
          "<br>\n",
          "\n",
          "### Basic examples\n",
          "\n",
          "Convex functions:\n",
          "\n",
          "- $a^Tx+b$\n",
          "- $e^{ax}$\n",
          "- $x^p$ on $\\R_{++}$, for $p\\ge 1$ or $p\\le0$\n",
          "- $\\|x\\|$ (any norm)\n",
          "- $x\\log x$  on $\\R_{++}$\n",
          "- $x^TPx$, for $P\\succeq 0$\n",
          "- $\\max\\left\\{x_1, x_2, \\dots, x_n \\right\\}$\n",
          "\n",
          "Concave functions:\n",
          "\n",
          "- $x^p$, for $0\\le p \\le 1$\n",
          "- $\\log x$, for $x>0$\n",
          "- $\\sqrt{xy}$\n",
          "- $x^TPx$, for $P\\preceq 0$\n",
          "- $\\min\\left(x_1, x_2, \\dots, x_n \\right)$\n"
        ]
      },
      {
        "cell_type": "markdown",
        "metadata": {
          "id": "Pvu69q3Hrc-h"
        },
        "source": [
          "<br>\n",
          "\n",
          "### Less basic examples\n",
          "\n",
          "Convex functions:\n",
          "\n",
          "- $x^2/y$, for $y>0$\n",
          "- $x^Tx/y$, for $y>0$\n",
          "- $x^TY^{-1}x$, for $Y \\succ 0$\n",
          "- $\\log  \\left(e^{x_1} + \\cdots + e^{x_n}\\right)$\n",
          "- $\\left(\\prod_{k=1}^n x_k\\right)^{1/n}$\n",
          "- $x_{[1]} + \\cdots + x_{[k]}$ (sum of largest $k$ entries)\n",
          "- $x \\log\\left(x/y\\right)$, for $x,y>0$\n",
          "- $\\lambda_{\\max} \\left(X\\right)$, for $X\\in\\SM$\n",
          "\n",
          "Concave functions:\n",
          "\n",
          "- $\\log \\det X$, for $X \\succ 0$\n",
          "- $ \\left( \\det X \\right)^{1/n}$, for $X\\succ 0$\n",
          "- $\\lambda_{\\min} \\left(X\\right)$, for $X\\in\\SM$\n"
        ]
      },
      {
        "cell_type": "markdown",
        "metadata": {
          "id": "A0fkCI9pfkyM"
        },
        "source": [
          "<br>\n",
          "\n",
          "### Calculus rules\n",
          "\n",
          "- Nonnegative scaling: \n",
          "$$\n",
          "f \\text{ convex}, \\alpha\\ge 0 \\Longrightarrow \\alpha f \\text{ convex}\n",
          "$$\n",
          "\n",
          "- Sum: \n",
          "$$\n",
          "f, g \\text{ convex} \\Longrightarrow f+g \\text{ convex}\n",
          "$$\n",
          "\n",
          "- Affine composition:\n",
          "$$\n",
          "f \\text{ convex} \\Longrightarrow f(Ax+b) \\text{ convex}\n",
          "$$\n",
          "\n",
          "- Pointwise maximum:\n",
          "$$\n",
          "f_1,\\dots, f_m \\text{ convex} \\Longrightarrow \\max_{i} f_i(x) \\text{ convex}\n",
          "$$\n",
          "\n",
          "- Pointwise supremum\n",
          "$$\n",
          "f(x,y) \\text{ convex in } x \\text{ for each } y\\in\\mc{A} \\Longrightarrow \\sup_{y\\in\\mc{A}} f(x,y) \\text{ convex}\n",
          "$$\n",
          "\n",
          "- Minimization\n",
          "$$\n",
          "f(x,y) \\text{ convex in } (x,y) \\text{ and } C \\text{ a convex set} \\Longrightarrow \\inf_{y\\in C} f(x,y) \\text{ convex}\n",
          "$$\n",
          "\n",
          "- Perspective\n",
          "$$\n",
          "f(x) \\text{ convex }\\Longrightarrow t f(x/t) \\text{ convex } on \\{ (x,t) \\ | \\ x/t \\in \\dom f,\\ t>0\\}\n",
          "$$\n",
          "\n",
          "- Composition:\n",
          "\\begin{align*}\n",
          "& h \\text{ convex nondecreasing}, f \\text{ convex} \\Longrightarrow h\\left(f(x)\\right) \\text{ convex} \\\\\n",
          "& h \\text{ convex nonincreasing}, f \\text{ concave} \\Longrightarrow h\\left(f(x)\\right) \\text{ convex} \\\\\n",
          "& h \\text{ concave nondecreasing}, f \\text{ concave} \\Longrightarrow h\\left(f(x)\\right) \\text{ concave} \\\\\n",
          "& h \\text{ concave nonincreasing}, f \\text{ convex} \\Longrightarrow h\\left(f(x)\\right) \\text{ concave} \\\\\n",
          "\\end{align*}\n",
          "\n"
        ]
      },
      {
        "cell_type": "markdown",
        "metadata": {
          "id": "nO5_SEz2wnQD"
        },
        "source": [
          "<br>\n",
          "\n",
          "### Examples\n",
          "\n",
          "- Piecewise-linear function:\n",
          "$$\n",
          "  \\max_{i=1,\\dots,k} \\left( a_i^Tx+b_i \\right)\n",
          "$$\n",
          "\n",
          "- Least squares cost:\n",
          "$$\n",
          "  \\|Ax-b\\|_2^2\n",
          "$$\n",
          "\n",
          "- Regularized least squares cost:\n",
          "$$\n",
          "  \\|Ax-b\\|_2^2 + \\lambda\\|Fx\\|_2 + \\nu\\|x\\|_1\n",
          "$$\n",
          "\n",
          "- Sum of largest $k$ elements of $x$:\n",
          "$$\n",
          "x_{[1]} + \\cdots + x_{[k]}\n",
          "$$\n",
          "\n",
          "- log-barrier:\n",
          "$$\n",
          "-\\sum_{i} \\log\\left( -f_i(x) \\right), \\quad\\text{ on } \\{x\\ | \\ f_i(x)<0 \\}, f_i\\text{ convex}\n",
          "$$\n",
          "\n",
          "- log-barrier for linear inequalities\n",
          "$$\n",
          "-\\sum_{i} \\log\\left( b_i-a_i^Tx \\right), \\quad\\text{ on } \\{x\\ | \\ a_i^Tx<b_i \\}\n",
          "$$\n",
          "\n",
          "- KL divergence:\n",
          "$$\n",
          "\\sum_{i} \\left( u_i\\log (u_i/v_i) - u_i + v_i \\right), \\quad\\text{ for } u,v>0\n",
          "$$\n",
          "\n",
          "- Support function of a set $C$:\n",
          "$$\n",
          "\\sup_{y\\in{C}} y^Tx \n",
          "$$\n",
          "\n",
          "- Distance to farthest point in a set $C$:\n",
          "$$\n",
          "\\sup_{y\\in{C}} \\|x-y\\| \n",
          "$$\n",
          "\n",
          "- Distance to a convex set $C$:\n",
          "$$\n",
          "\\inf_{y\\in{C}} \\|x-y\\|, \\quad \\text{ for convex $C$} \n",
          "$$\n",
          "\n",
          "- Schur complement: \n",
          "$$\n",
          "\\bmat{A & B \\\\ B^T & C }\\succeq 0, \\ A \\succ 0 \\Longrightarrow\n",
          "C-B^T A^{-1}B \\succeq 0\n",
          "$$\n",
          "\n",
          "- Maximum eigenvalue of symmetric matrix $X\\in\\SM^n$\n",
          "$$\n",
          "\\lambda_\\max(X) = \\sup_{\\|y\\|_2=1} y^TXy\n",
          "$$\n"
        ]
      },
      {
        "cell_type": "markdown",
        "metadata": {
          "id": "IerUKOrQ0AY9"
        },
        "source": [
          "<br>\n",
          "\n",
          "### A general composition rule\n",
          "\n",
          "$c(x) = h\\left( f_1(x), \\dots, f_k(x)\\right)$ is convex when $h$ is convex and for each $i$\n",
          "\n",
          "- $h$ is nondecreasing in argument $i$ and $f_i$ is convex, or\n",
          "- $h$ is nonincreasing in argument $i$ and $f_i$ is concave, or\n",
          "- $f_i$ is affine\n",
          "\n",
          "Rough idea: for $x\\in\\R$ with differentiable $f$ and $h$,\n",
          "$$\n",
          "c''(x) = f'(x)^T \\nabla^2 h\\left(f(x)\\right)f'(x) + \\nabla h\\left(f(x)\\right)^Tf''(x)\n",
          "$$"
        ]
      },
      {
        "cell_type": "markdown",
        "metadata": {
          "id": "EXac5P8eJgKN"
        },
        "source": [
          "<br>\n",
          "\n",
          "### Example\n",
          "\n",
          "- For $u,v>0$,\n",
          "$$\n",
          "f(u,v) = (u+1) \\log \\left( (u+1)/\\min(u,v)\\right)\n",
          "$$ \n",
          "is convex.\n",
          "\n",
          "- For $x,y<1$,\n",
          "$$\n",
          "  \\frac{(x-y)^2}{1-\\max(x,y)}\n",
          "$$\n",
          "is convex.\n",
          "\n",
          "- For any $x$,\n",
          "$$\n",
          "\\sqrt{1+x^2}\n",
          "$$\n",
          "is convex.\n",
          "\n",
          "- $\\exp g(x)$ is convex if $g$ is convex\n",
          "- $1/g(x)$ is convex if $g$ is concave and positive\n",
          "- $\\sum_{i=1}^m \\log g_i(x)$ is concave if $g_i$ are concave and positive\n",
          "- $\\log \\sum_{i=1}^m \\exp g_i(x)$ is convex if $g_i$ are convex\n"
        ]
      }
    ]
  }