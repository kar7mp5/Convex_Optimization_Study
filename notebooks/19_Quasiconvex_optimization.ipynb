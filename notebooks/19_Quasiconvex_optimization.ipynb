{
    "nbformat": 4,
    "nbformat_minor": 0,
    "metadata": {
      "colab": {
        "name": "19_Quasiconvex_optimization.ipynb",
        "provenance": [],
        "collapsed_sections": [],
        "include_colab_link": true
      },
      "kernelspec": {
        "display_name": "Python 3",
        "language": "python",
        "name": "python3"
      }
    },
    "cells": [
      {
        "cell_type": "markdown",
        "metadata": {
          "id": "view-in-github",
          "colab_type": "text"
        },
        "source": [
          "<a href=\"https://colab.research.google.com/gist/jonghank/d5f3d819c68636a5ebcee972a0b92ea8/quasiconvex_optimization.ipynb\" target=\"_parent\"><img src=\"https://colab.research.google.com/assets/colab-badge.svg\" alt=\"Open In Colab\"/></a>"
        ]
      },
      {
        "cell_type": "markdown",
        "metadata": {
          "id": "GY_tlKGhFh6V"
        },
        "source": [
          "# Quasiconvex optimization\n",
          "\n",
          "$$\n",
          "\\newcommand{\\eg}{{\\it e.g.}}\n",
          "\\newcommand{\\ie}{{\\it i.e.}}\n",
          "\\newcommand{\\argmin}{\\operatornamewithlimits{argmin}}\n",
          "\\newcommand{\\mc}{\\mathcal}\n",
          "\\newcommand{\\mb}{\\mathbb}\n",
          "\\newcommand{\\mf}{\\mathbf}\n",
          "\\newcommand{\\minimize}{{\\text{minimize}}}\n",
          "\\newcommand{\\argmin}{{\\text{argmin}}}\n",
          "\\newcommand{\\diag}{{\\text{diag}}}\n",
          "\\newcommand{\\cond}{{\\text{cond}}}\n",
          "\\newcommand{\\rank}{{\\text{rank }}}\n",
          "\\newcommand{\\range}{{\\mathcal{R}}}\n",
          "\\newcommand{\\null}{{\\mathcal{N}}}\n",
          "\\newcommand{\\tr}{{\\text{trace}}}\n",
          "\\newcommand{\\dom}{{\\text{dom}}}\n",
          "\\newcommand{\\dist}{{\\text{dist}}}\n",
          "\\newcommand{\\E}{\\mathbf{E}}\n",
          "\\newcommand{\\var}{\\mathbf{var}}\n",
          "\\newcommand{\\Z}{\\mathbf{Z}}\n",
          "\\newcommand{\\R}{\\mathbf{R}}\n",
          "\\newcommand{\\SM}{\\mathbf{S}}\n",
          "\\newcommand{\\ball}{\\mathcal{B}}\n",
          "\\newcommand{\\bmat}[1]{\\begin{bmatrix}#1\\end{bmatrix}}\n",
          "$$\n"
        ]
      },
      {
        "cell_type": "markdown",
        "metadata": {
          "id": "dcn4VDPcFh6Y"
        },
        "source": [
          "__<div style=\"text-align: right\"> ASE7030: Convex Optimization, Inha University. </div>__\n",
          "_<div style=\"text-align: right\"> Jong-Han Kim (jonghank@inha.ac.kr) </div>_"
        ]
      },
      {
        "cell_type": "markdown",
        "metadata": {
          "id": "p1KVdQ8vunOC"
        },
        "source": [
          "<br>\n",
          "\n",
          "## Quasiconvex functions\n",
          "\n",
          "A function $f:\\R^n \\rightarrow \\R$ is _quasiconvex_ if $\\dom f$ is convex and the sublevel sets\n",
          "\n",
          "$$\n",
          "S_t = \\left\\{ x \\in \\dom f \\mid f(x) \\le t \\right\\}\n",
          "$$\n",
          "\n",
          "are convex for all $t$.\n",
          "\n",
          "- $f$ is quasiconcave if $-f$ is quasiconvex\n",
          "- $f$ is quasilinear if it is quasiconvex and quasiconcave"
        ]
      },
      {
        "cell_type": "markdown",
        "metadata": {
          "id": "ch5QyiKZQaNw"
        },
        "source": [
          "<br>\n",
          "\n",
          "### Alternative definition\n",
          "\n",
          "A function $f$ is quasiconvex if and only if $\\dom f$ is convex and for any $x,y\\in\\dom f$ with $0\\le \\theta \\le 1$,\n",
          "\n",
          "$$\n",
          "  f\\left(\\theta x + (1-\\theta)y\\right) \\le \\max\\left\\{f(x), f(y) \\right\\}\n",
          "$$\n",
          "\n",
          "Compare with the convexity contition, $f\\left(\\theta x + (1-\\theta)y\\right) \\le \\theta f(x) + (1-\\theta) f(y)$."
        ]
      },
      {
        "cell_type": "markdown",
        "metadata": {
          "id": "1Vk4Ln8nQTi0"
        },
        "source": [
          "<br>\n",
          "\n",
          "### Quasiconvex functions on $\\R$\n",
          "\n",
          "A continuous function $f:\\R\\rightarrow \\R$ is quasiconvex if and only if at least one of the following conditions holds:\n",
          "- $f$ is monotonic: $f$ is nondecreasing or nonincreasing\n",
          "- There is a point $c\\in\\dom f$ such that for $t\\le c$ and $t\\in\\dom f$, $f$ is nonincreasing, and $t\\ge c$ and $t\\in\\dom f$, $f$ is nondecreasing\n",
          "  "
        ]
      },
      {
        "cell_type": "markdown",
        "metadata": {
          "id": "4uWVm4L2QRC4"
        },
        "source": [
          "<br>\n",
          "\n",
          "### Examples\n",
          "\n",
          "- $\\sqrt{|x-a|}+b$ is quasiconvex on $\\R$\n",
          "<center>\n",
          "<img src=\"https://upload.wikimedia.org/wikipedia/commons/0/02/Quasiconvex_function.png\" width=\"300\">\n",
          "</center>\n",
          "\n",
          "- $\\sqrt{x}$ is quasilinear and concave on $\\R$\n",
          "<center>\n",
          "<img src=\"https://upload.wikimedia.org/wikipedia/commons/3/34/Quasi-concave-function-graph.png\" width=\"350\">\n",
          "</center>\n",
          "\n",
          "- Gaussian distribution is quasiconcave\n",
          "<center>\n",
          "<img src=\"https://upload.wikimedia.org/wikipedia/commons/5/57/Multivariate_Gaussian.png\" width=\"550\">\n",
          "</center>\n",
          "\n",
          "- Monotonic functions are quasilinear\n",
          "<center>\n",
          "<img src=\"https://upload.wikimedia.org/wikipedia/commons/5/59/Monotonicity_example2.png\" width=\"200\">\n",
          "</center>\n",
          "\n",
          "- Discontinuous functions can be quasiconvex. For example, $\\text{ceil}(x) = \\inf\\left\\{z\\in\\Z \\mid z \\ge x\\right\\}$ and $\\text{floor}(x) = \\sup\\left\\{z\\in\\Z \\mid z \\le x\\right\\}$ are quasilinear.\n",
          "<center>\n",
          "<img src=\"https://upload.wikimedia.org/wikipedia/commons/thumb/e/e1/Floor_function.svg/1920px-Floor_function.svg.png\" width=\"300\">\n",
          "</center>\n",
          "\n"
        ]
      },
      {
        "cell_type": "markdown",
        "metadata": {
          "id": "xZpb5WS4R5-U"
        },
        "source": [
          "<br>\n",
          "\n",
          "## Quasiconvex optimization via convex feasibility problems\n",
          "\n",
          "Recall that a quasiconvex optimization problem has the standard form\n",
          "\n",
          "$$\n",
          "\\begin{aligned}\n",
          "  \\underset{x}{\\minimize} \\quad & f_0(x)  \\\\\n",
          "  \\text{subject to} \\quad & f_i(x) \\le 0,  &i=1,\\dots,m \\\\\n",
          "   & Ax = b\n",
          "\\end{aligned}\n",
          "$$\n",
          "\n",
          "where $f_1,\\dots,f_m$ are convex and the objective $f_0$ is quasiconvex. Let $\\phi_t : \\R^n \\rightarrow \\R$ with $t\\in\\R$, be a family of convex functions that satisfy\n",
          "\n",
          "$$\n",
          "  f_0(t) \\le t \\quad \\Longleftrightarrow \\quad \\phi_t (x) \\le 0\n",
          "$$\n",
          "\n",
          "and also, for each $x$, $\\phi_t(x)$ is a nonincreasing function of $t$, i.e., $\\phi_s(x) \\le \\phi_t(x)$ whenever $s\\ge t$.\n",
          "\n",
          "<br>\n",
          "\n",
          "Now let $p^*$ denote the optimal value of the quasiconvex optimization problem. If the feasibility problem\n",
          "\n",
          "\\begin{equation}\n",
          "\\begin{aligned}\n",
          "  \\text{find} \\quad & x  \\\\\n",
          "  \\text{subject to} \\quad & \\phi_t(x) \\le 0, \\\\\n",
          "   & f_i(x) \\le 0,  &i=1,\\dots,m \\\\\n",
          "   & Ax = b\n",
          "\\end{aligned}\n",
          "\\end{equation}\n",
          "\n",
          "is feasible, then we have $p^*\\le t$. Conversely, if the problem is infeasible, then we can conclude $p^*\\ge t$. This observation can be used as the basis of a simple algorithm for solving the quasiconvex optimization problem using bisection.\n"
        ]
      },
      {
        "cell_type": "markdown",
        "metadata": {
          "id": "k5lmy4mhYRSz"
        },
        "source": [
          "<br>\n",
          "\n",
          "### Bisection method for quasiconvex optimization\n",
          "\n",
          "**given:** \n",
          "\n",
          "- $l\\le p^*$, $u\\ge p^*$, tolerance $\\epsilon >0$.\n",
          "\n",
          "**repeat:**\n",
          "\n",
          "- Set $t:=(l+u)/2$\n",
          "\n",
          "- Solve the convex feasibility problem\n",
          "\n",
          "- **if** feasible, set $u:=t$, **else** set $l:=t$\n",
          "\n",
          "**until:**\n",
          "\n",
          "- $u-l \\le \\epsilon$\n"
        ]
      }
    ]
  }