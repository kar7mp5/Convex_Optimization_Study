{
 "cells": [
  {
   "cell_type": "markdown",
   "metadata": {
    "colab_type": "text",
    "id": "view-in-github"
   },
   "source": [
    "<a href=\"https://colab.research.google.com/gist/jonghank/240ac3cd07a47b9b1bf7c86adca58da3/convexity.ipynb\" target=\"_parent\"><img src=\"https://colab.research.google.com/assets/colab-badge.svg\" alt=\"Open In Colab\"/></a>"
   ]
  },
  {
   "cell_type": "markdown",
   "metadata": {
    "id": "GY_tlKGhFh6V"
   },
   "source": [
    "# Convexity\n",
    "\n",
    "$$\n",
    "\\newcommand{\\eg}{{\\it e.g.}}\n",
    "\\newcommand{\\ie}{{\\it i.e.}}\n",
    "\\newcommand{\\argmin}{\\operatornamewithlimits{argmin }}\n",
    "\\newcommand{\\mc}{\\mathcal}\n",
    "\\newcommand{\\mb}{\\mathbb}\n",
    "\\newcommand{\\mf}{\\mathbf}\n",
    "\\newcommand{\\minimize}{{\\text{minimize }}}\n",
    "\\newcommand{\\diag}{{\\text{diag }}}\n",
    "\\newcommand{\\cond}{{\\text{cond }}}\n",
    "\\newcommand{\\rank}{{\\text{rank }}}\n",
    "\\newcommand{\\range}{{\\mathcal{R}}}\n",
    "\\newcommand{\\null}{{\\mathcal{N}}}\n",
    "\\newcommand{\\tr}{{\\text{trace }}}\n",
    "\\newcommand{\\dom}{{\\text{dom }}}\n",
    "\\newcommand{\\epi}{{\\text{epi }}}\n",
    "\\newcommand{\\dist}{{\\text{dist }}}\n",
    "\\newcommand{\\R}{\\mathbf{R}}\n",
    "\\newcommand{\\SM}{\\mathbf{S}}\n",
    "\\newcommand{\\ball}{\\mathcal{B}}\n",
    "\\newcommand{\\bmat}[1]{\\begin{bmatrix}#1\\end{bmatrix}}\n",
    "$$"
   ]
  },
  {
   "cell_type": "markdown",
   "metadata": {
    "id": "dcn4VDPcFh6Y"
   },
   "source": [
    "__<div style=\"text-align: right\"> ASE7030: Convex Optimization, Inha University. </div>__\n",
    "_<div style=\"text-align: right\"> Jong-Han Kim (jonghank@inha.ac.kr) </div>_\n"
   ]
  },
  {
   "cell_type": "markdown",
   "metadata": {
    "id": "p1KVdQ8vunOC"
   },
   "source": [
    "<br>\n",
    "\n",
    "### Linear combination\n",
    "\n",
    "Given a set of $n$-vectors $x_1,\\dots,x_k\\in\\R^n$, \n",
    "and $\\theta_1, \\dots, \\theta_k\\in\\R$,\n",
    "\n",
    "$$\n",
    "y = \\theta_1 x_1 + \\cdots + \\theta_k x_k\n",
    "$$\n",
    "\n",
    "is called a _linear combination_ of $x_1,\\dots,x_k\\in\\R^n$.\n"
   ]
  },
  {
   "cell_type": "markdown",
   "metadata": {
    "id": "mGIeIRkCTyvQ"
   },
   "source": [
    "<br> \n",
    "\n",
    "### Affine combination\n",
    "\n",
    "Given a set of $n$-vectors $x_1,\\dots,x_k\\in\\R^n$, \n",
    "and $\\theta_1, \\dots, \\theta_k\\in\\R$ with $\\theta_1+\\cdots+\\theta_k=1$,\n",
    "\n",
    "$$\n",
    "y = \\theta_1 x_1 + \\cdots + \\theta_k x_k\n",
    "$$\n",
    "\n",
    "is called an _linear combination_ of $x_1,\\dots,x_k\\in\\R^n$.\n"
   ]
  },
  {
   "cell_type": "markdown",
   "metadata": {
    "id": "eCUvIQE3UNij"
   },
   "source": [
    "<br> \n",
    "\n",
    "### Conic combination\n",
    "\n",
    "Given a set of $n$-vectors $x_1,\\dots,x_k\\in\\R^n$, \n",
    "and nonnegative $\\theta_1, \\dots, \\theta_k\\in\\R_+$,\n",
    "\n",
    "$$\n",
    "y = \\theta_1 x_1 + \\cdots + \\theta_k x_k\n",
    "$$\n",
    "\n",
    "is called a _conic combination_ of $x_1,\\dots,x_k\\in\\R^n$.\n"
   ]
  },
  {
   "cell_type": "markdown",
   "metadata": {
    "id": "X_7z4DzWYCNR"
   },
   "source": [
    "<br> \n",
    "\n",
    "### Convex combination\n",
    "\n",
    "Given a set of $n$-vectors $x_1,\\dots,x_k\\in\\R^n$, \n",
    "and nonnegative $\\theta_1, \\dots, \\theta_k\\in\\R_+$ with $\\theta_1+\\cdots+\\theta_k=1$,\n",
    "\n",
    "$$\n",
    "y = \\theta_1 x_1 + \\cdots + \\theta_k x_k\n",
    "$$\n",
    "\n",
    "is called a _convex combination_ of $x_1,\\dots,x_k\\in\\R^n$.\n"
   ]
  },
  {
   "cell_type": "markdown",
   "metadata": {
    "id": "p4Vf8wi1aORC"
   },
   "source": [
    "<br> \n",
    "\n",
    "### Affine set, cone, and convex set\n",
    "\n",
    "- A set closed under affine combination is called an _affine set_.\n",
    "- A set closed under conic combination is called a _cone_.\n",
    "- A set closed under convex combination is called a _convex set_."
   ]
  },
  {
   "cell_type": "markdown",
   "metadata": {
    "id": "inD3lp6jaXJP"
   },
   "source": [
    "<br> \n",
    "\n",
    "### Epigraph\n",
    "\n",
    "The graph of a function $f: \\R^n \\rightarrow \\R$ is defined as \n",
    "$$\n",
    "\\{(x,f(x)) | x \\in \\dom f\\}\n",
    "$$\n",
    "which is a subset of $R^{n+1}$. \n",
    "\n",
    "The epigraph of a function $f : \\R^n \\rightarrow \\R$ is defined as \n",
    "$$\n",
    "\\epi f= \\{(x,t)\\mid x\\in\\dom f, f(x)\\le t \\},\n",
    "$$\n",
    "which is a subset of $R^{n+1}$.\n"
   ]
  },
  {
   "cell_type": "markdown",
   "metadata": {
    "id": "xn3UeXxAfV5R"
   },
   "source": [
    "<br>\n",
    "\n",
    "### Convex function\n",
    "\n",
    "A function $f(x)$ is convex if $\\epi f$ is convex.\n",
    "\n",
    "<br>\n",
    "\n",
    "Equivalently, a function $f: \\R^n \\rightarrow \\R$ is convex, if $\\dom f$ is a convex set, and if for all $x, y \\in \\dom f$ and $\\theta$ with $0\\le\\theta\\le 1$, we have\n",
    "$$\n",
    "f(\\theta x + (1-\\theta) y) \\le \\theta f(x) + (1-\\theta) f(y)\n",
    "$$\n"
   ]
  },
  {
   "cell_type": "markdown",
   "metadata": {
    "id": "frYkZSrSkCDp"
   },
   "source": [
    "<br>\n",
    "\n",
    "### Convex optimization\n",
    "\n",
    "A convex optimization problem:\n",
    "\n",
    "$$\n",
    "\\begin{aligned}\n",
    "  \\underset{x}{\\minimize} \\quad & f(x)  \\\\\n",
    "  \\text{subject to} \\quad & x \\in \\mathcal{C}\n",
    "\\end{aligned}\n",
    "$$\n",
    "\n",
    "- $f(x)$ is convex and $\\mathcal{C}$ is convex.\n",
    "\n",
    "<br>\n",
    "\n",
    "Standard form:\n",
    "\n",
    "$$\n",
    "\\begin{aligned}\n",
    "  \\underset{x}{\\minimize} \\quad & f_0(x)  \\\\\n",
    "  \\text{subject to} \\quad & f_i(x) \\le 0,  &i=1,\\dots,m \\\\\n",
    "   & h_i(x) = 0,  &\n",
    "i=1,\\dots,p\n",
    "\\end{aligned}\n",
    "$$\n",
    "\n",
    "- $x\\in\\R^n$: _optimization variable_, _decision variable_, or simply the _variable_\n",
    "- $f_0(x): \\R^n \\rightarrow \\R$:  _objective function_, or _cost function_\n",
    "- $f_i(x): \\R^n \\rightarrow \\R$: _inequality constraint functions_ \n",
    "- $h_i(x): \\R^n \\rightarrow \\R$: _equality constraint functions_ \n",
    "- The problem is convex if $f_i(x)$ are convex and $h_i(x)$ are affine."
   ]
  }
 ],
 "metadata": {
  "colab": {
   "collapsed_sections": [
    "p1KVdQ8vunOC",
    "mGIeIRkCTyvQ",
    "eCUvIQE3UNij",
    "X_7z4DzWYCNR",
    "p4Vf8wi1aORC",
    "inD3lp6jaXJP",
    "xn3UeXxAfV5R"
   ],
   "include_colab_link": true,
   "name": "Convexity.ipynb",
   "provenance": []
  },
  "kernelspec": {
   "display_name": "Python 3 (ipykernel)",
   "language": "python",
   "name": "python3"
  },
  "language_info": {
   "codemirror_mode": {
    "name": "ipython",
    "version": 3
   },
   "file_extension": ".py",
   "mimetype": "text/x-python",
   "name": "python",
   "nbconvert_exporter": "python",
   "pygments_lexer": "ipython3",
   "version": "3.11.6"
  }
 },
 "nbformat": 4,
 "nbformat_minor": 4
}
