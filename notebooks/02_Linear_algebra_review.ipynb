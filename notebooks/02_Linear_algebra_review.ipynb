{
    "nbformat": 4,
    "nbformat_minor": 0,
    "metadata": {
      "colab": {
        "name": "2_Linear_algebra_review.ipynb",
        "provenance": [],
        "collapsed_sections": [],
        "include_colab_link": true
      },
      "kernelspec": {
        "display_name": "Python 3",
        "language": "python",
        "name": "python3"
      }
    },
    "cells": [
      {
        "cell_type": "markdown",
        "metadata": {
          "id": "view-in-github",
          "colab_type": "text"
        },
        "source": [
          "<a href=\"https://colab.research.google.com/gist/jonghank/da2e6c0acb8789e08c434fb58ae69874/linear_algebra_review.ipynb\" target=\"_parent\"><img src=\"https://colab.research.google.com/assets/colab-badge.svg\" alt=\"Open In Colab\"/></a>"
        ]
      },
      {
        "cell_type": "markdown",
        "metadata": {
          "id": "GY_tlKGhFh6V"
        },
        "source": [
          "# Linear algebra review\n",
          "\n",
          "Partially taken from _Convex Optimization_ by Boyd and Vandenberghe.\n",
          "$$\n",
          "\\newcommand{\\eg}{{\\it e.g.}}\n",
          "\\newcommand{\\ie}{{\\it i.e.}}\n",
          "\\newcommand{\\argmin}{\\operatornamewithlimits{argmin}}\n",
          "\\newcommand{\\mc}{\\mathcal}\n",
          "\\newcommand{\\mb}{\\mathbb}\n",
          "\\newcommand{\\mf}{\\mathbf}\n",
          "\\newcommand{\\minimize}{{\\text{minimize}}}\n",
          "\\newcommand{\\diag}{{\\text{diag}}}\n",
          "\\newcommand{\\cond}{{\\text{cond}}}\n",
          "\\newcommand{\\rank}{{\\text{rank }}}\n",
          "\\newcommand{\\range}{{\\mathcal{R}}}\n",
          "\\newcommand{\\null}{{\\mathcal{N}}}\n",
          "\\newcommand{\\tr}{{\\text{trace}}}\n",
          "\\newcommand{\\dom}{{\\text{dom}}}\n",
          "\\newcommand{\\dist}{{\\text{dist}}}\n",
          "\\newcommand{\\R}{\\mathbf{R}}\n",
          "\\newcommand{\\SM}{\\mathbf{S}}\n",
          "\\newcommand{\\ball}{\\mathcal{B}}\n",
          "\\newcommand{\\bmat}[1]{\\begin{bmatrix}#1\\end{bmatrix}}\n",
          "$$"
        ]
      },
      {
        "cell_type": "markdown",
        "metadata": {
          "id": "dcn4VDPcFh6Y"
        },
        "source": [
          "__<div style=\"text-align: right\"> ASE7030: Convex Optimization, Inha University. </div>__\n",
          "_<div style=\"text-align: right\"> Jong-Han Kim (jonghank@inha.ac.kr) </div>_\n"
        ]
      },
      {
        "cell_type": "markdown",
        "metadata": {
          "id": "G_vEDBWqCgYn"
        },
        "source": [
          ""
        ]
      },
      {
        "cell_type": "markdown",
        "metadata": {
          "id": "p1KVdQ8vunOC"
        },
        "source": [
          "<br>\n",
          "\n",
          "## Norms\n",
          "\n",
          "### Inner product and Euclidean norm\n",
          "\n",
          "The _standard inner product_ on $\\R^n$, the set of real $n$-vectors, is given by\n",
          "\n",
          "$$\n",
          "  \\langle x,y\\rangle = x^Ty = \\sum_i x_iy_i\n",
          "$$\n",
          "\n",
          "for $x, y \\in \\R^n$. \n",
          "\n"
        ]
      },
      {
        "cell_type": "markdown",
        "metadata": {
          "id": "VPO8obt_aEKo"
        },
        "source": [
          "The _Euclidean norm_, or $\\ell_2$_-norm_, of a vector $x\\in\\R^n$ is defined as\n",
          "\n",
          "$$\n",
          "\\|x\\|_2 = \\left( x^Tx\\right)^{1/2} = \\left( x_1^2 + \\cdots + x_n^2  \\right)^{1/2}\n",
          "$$"
        ]
      },
      {
        "cell_type": "markdown",
        "metadata": {
          "id": "FAcgdKzSZyCq"
        },
        "source": [
          "\n",
          "\n",
          "The _Cauchy-Schwartz inequality_ states that $| x^T y| \\le \\|x\\|_2\\|y\\|_2$ for any $x, y \\in \\R^n$.\n",
          "The (unsigned) _angle_ between nonzero vectors $x, y\\in  \\R^n$ is defined as\n",
          "\n",
          "$$\n",
          "\\angle (x,y)=\\cos^{-1} \\left(\\frac{x^Ty}{\\|x\\|_2 \\|y\\|_2}\\right)\n",
          "$$\n",
          "\n",
          "where we take $\\cos^{-1}u \\in [0, \\pi]$. We say $x$ and $y$ are _orthogonal_ if $x^T y = 0$.\n",
          "\n",
          "The standard inner product on $\\R^{m\\times n}$, the set of $m\\times  n$ real matrices, is given by\n",
          "\n",
          "$$\n",
          "\\langle X,Y \\rangle= \\tr\\left(X^T Y\\right)= \\sum_i \\sum_j X_{ij}Y_{ij}\n",
          "$$\n",
          "\n",
          "for $X, Y\\in \\R^{m\\times n}$. Here, the $\\tr(\\cdot )$ is nothing but the sum of all the diagonal elements. Note that the inner product of two matrices is the inner product of the associated vectors, in $\\R^{mn}$, obtained by listing the coefficients of the matrices in some order, such as row major.\n",
          "\n",
          "The _Frobenius_ norm of a matrix $X \\in \\R^{m\\times n}$ is given by\n",
          "\n",
          "$$\n",
          "\\|X\\|_F = \\tr\\left(X^TX\\right)^{1/2} =  \\left( \\sum_i \\sum_j X_{ij}^2\\right)^{1/2}\n",
          "$$\n",
          "\n",
          "The Frobenius norm is the Euclidean norm of the vector obtained by listing the coefficients of the matrix. \n",
          "\n"
        ]
      },
      {
        "cell_type": "markdown",
        "metadata": {
          "id": "zKOvVrsw02en"
        },
        "source": [
          "<br>\n",
          "\n",
          "### Norms, distance, and unit ball\n",
          "\n",
          "A function $f : \\R^n \\rightarrow \\R$ with $\\dom f =\\R^n$ is called a _norm_ if\n",
          "\n",
          "\n",
          "- $f$ is nonnegative: $f(x)\\ge0$ for all $x\\in\\R^n$\n",
          "- $f$ is definite: $f(x)=0$ only if $x=0$\n",
          "- $f$ is homogeneous: $f(tx) = |t|f(x)$, for all $x\\in\\R^n$ and $t\\in\\R$\n",
          "- $f$ satisfies the triangle inequality: $f(x+y)\\le f(x)+f(y)$, for all $x,y\\in\\R^n$\n",
          "\n",
          "We use the notation $f(x) = \\|x\\|$, which is meant to suggest that a norm is a generalization of the absolute value on $\\R$. When we specify a particular norm, we use the notation $\\|x\\|_\\text{symb}$, where the subscript is a mnemonic to indicate which norm is meant.\n",
          "\n",
          "A norm is a measure of the _length_ of a vector $x$; we can measure the _distance_ between two vectors $x$ and $y$ as the length of their difference, $\\ie$, \n",
          "\n",
          "$$\n",
          "\\dist(x, y) = \\|x-y\\|\n",
          "$$\n",
          "\n",
          "We refer to $\\dist(x, y)$ as the distance between $x$ and $y$, in the norm $\\|\\cdot\\|$.\n",
          "\n",
          "The set of all vectors with norm less than or equal to one, \n",
          "\n",
          "$$\n",
          "\\ball=\\{x\\in\\R^n \\ |\\  \\|x\\|\\le1\\}\n",
          "$$\n",
          "\n",
          "is called the _unit ball_ of the norm $\\|\\cdot\\|$. The unit ball satisfies the following properties:\n",
          "\n",
          "- $\\ball$ is symmetric about the origin, $\\ie$, $x\\in\\ball$ if and only if $−x\\in\\ball$\n",
          "- $\\ball$ is convex\n",
          "- $\\ball$ is closed, bounded, and has nonempty interior"
        ]
      },
      {
        "cell_type": "code",
        "metadata": {
          "id": "VHIBJd076kMH",
          "colab": {
            "base_uri": "https://localhost:8080/",
            "height": 366
          },
          "outputId": "1d3d97f3-678d-4bf8-cb09-b11737ef6a54"
        },
        "source": [
          "import matplotlib.pyplot as plt\n",
          "\n",
          "x = np.linspace(-1,1,1001)\n",
          "y_h = (1 - abs(x)**(0.2))**(1/0.2)\n",
          "y_1 = (1 - abs(x))\n",
          "y_2 = (1 - abs(x)**2)**(1/2)\n",
          "y_5 = (1 - abs(x)**5)**(1/5)\n",
          "y_20 = (1 - abs(x)**200)**(1/200)\n",
          "X = np.hstack((x,-x))\n",
          "Y_h = np.hstack((y_h,-y_h))\n",
          "Y_1 = np.hstack((y_1,-y_1))\n",
          "Y_2 = np.hstack((y_2,-y_2))\n",
          "Y_5 = np.hstack((y_5,-y_5))\n",
          "Y_20 = np.hstack((y_20,-y_20))\n",
          "plt.figure()\n",
          "plt.plot(X,Y_h, label=r'$\\mathcal{B}_{0.2}$')\n",
          "plt.plot(X,Y_1, label=r'$\\mathcal{B}_1$')\n",
          "plt.plot(X,Y_2, label=r'$\\mathcal{B}_2$')\n",
          "plt.plot(X,Y_5, label=r'$\\mathcal{B}_5$')\n",
          "plt.plot(X,Y_20, label=r'$\\mathcal{B}_{20}$')\n",
          "plt.legend()\n",
          "plt.axis('square')"
        ],
        "execution_count": null,
        "outputs": [
          {
            "output_type": "execute_result",
            "data": {
              "text/plain": [
                "(-1.1, 1.1, -1.1, 1.1)"
              ]
            },
            "metadata": {
              "tags": []
            },
            "execution_count": 11
          },
          {
            "output_type": "display_data",
            "data": {
              "image/png": "[encoded data removed]",
              "text/plain": [
                "<Figure size 576x396 with 1 Axes>"
              ]
            },
            "metadata": {
              "tags": []
            }
          }
        ]
      },
      {
        "cell_type": "markdown",
        "metadata": {
          "id": "9TVt3Z732ZQf"
        },
        "source": [
          "<br>\n",
          "\n",
          "### Examples of norms\n",
          "\n",
          "The simplest example of a norm is the absolute value on $\\R$. Another simple example is the Euclidean or $\\ell_2$-norm on $\\R^n$. Two other frequently used norms on $\\R^n$ are the _sum-absolute-value_, or $\\ell_1$_-norm_, given by\n",
          "\n",
          "$$\n",
          "\\|x\\|_1 =|x_1|+\\cdots+|x_n|\n",
          "$$\n",
          "\n",
          "and the _Chevyshev_ or $\\ell_\\infty$_-norm_, given by\n",
          "\n",
          "$$\n",
          "\\|x\\|_\\infty =\\max\\{|x_1|, \\ldots, |x_n|\\}\n",
          "$$\n",
          "\n",
          "These three norms are part of a family parametrized by a constant traditionally\n",
          "denoted $p$, with $p\\ge1$: the $\\ell_p$_-norm_ is defined by\n",
          "\n",
          "$$\n",
          "\\|x\\|_p = \\left(|x_1|^p + \\cdots + |x_n|^p\\right)^{1/p}\n",
          "$$\n",
          "\n",
          "This yields the $\\ell_1$-norm when $p = 1$ and the Euclidean norm when $p = 2$. It is easy to show that for any $x \\in \\R^n$,\n",
          "\n",
          "$$\n",
          "\\lim_{p\\rightarrow\\infty} \\|x\\|_p =\\max\\{|x_1|,\\ldots,|x_n|\\} \n",
          "$$\n",
          "so the $\\ell_\\infty$-norm also fits in this family as a limit.\n",
          "\n",
          "Another important family of norms are the _quadratic norms_. For $P\\in \\SM^n_{++}$, we\n",
          "define the $P$-quadratic norm as\n",
          "\n",
          "$$\n",
          "\\|x\\|_P = \\left(x^T P x\\right)^{1/2} = \\|P^{1/2}x\\|_2\n",
          "$$\n",
          "\n",
          "The unit ball of a quadratic norm is an ellipsoid (and conversely, if the unit ball of a norm is an ellipsoid, the norm is a quadratic norm).\n",
          "Some common norms on $\\R^{m\\times n}$ are the Frobenius norm, the sum-absolute-value norm,\n",
          "\n",
          "$$\n",
          "\\|X\\|_\\text{sav} = \\sum_i \\sum_j |X_{ij}|\n",
          "$$\n",
          "\n",
          "and the maximum-absolute-value norm,\n",
          "\n",
          "$$\n",
          "\\|X\\|_\\text{mav} = \\max_{i,j} |X_{ij}|\n",
          "$$\n"
        ]
      },
      {
        "cell_type": "markdown",
        "metadata": {
          "id": "4S6oX7Oj298q"
        },
        "source": [
          "<br>\n",
          "\n",
          "## Linear independence\n",
          "\n",
          "<br>\n",
          "\n",
          "### Linear dependence\n",
          "\n",
          "Set of $n$-vectors $\\{a_1,\\dots,a_k\\}$ (with $k\\ge1$) is _linearly dependent_ if \n",
          "$$\n",
          "a_1 x_1 + \\cdots + a_k x_k = 0\n",
          "$$\n",
          "holds for some $x_1,\\dots,x_k$ that are not all zero."
        ]
      },
      {
        "cell_type": "markdown",
        "metadata": {
          "id": "L4gyLmLD3rOt"
        },
        "source": [
          "<br>\n",
          "\n",
          "### Linear independence\n",
          "\n",
          "Set of $n$-vectors $\\{a_1,\\dots,a_k\\}$ (with $k\\ge1$) is _linearly independent_ if it is not linearly dependent, i.e.,\n",
          "$$\n",
          "a_1 x_1 + \\cdots + a_k x_k = 0\n",
          "$$\n",
          "holds only when $x_1=\\cdots=x_k=0$."
        ]
      },
      {
        "cell_type": "markdown",
        "metadata": {
          "id": "LPENJ0Mid65z"
        },
        "source": [
          "<br>\n",
          "\n",
          "## Range and nullspace\n",
          "\n",
          "Let $A\\in\\R^{m\\times n}$. The _range_ of $A$, denoted $\\range(A)$, is the set of all vectors in $\\R^m$ that can be written as linear combinations of the columns of $A$, $\\ie$,\n",
          "\n",
          "$$\n",
          "  \\range(A) = \\{ Ax \\ | \\ x\\in\\R^{n} \\} \n",
          "$$\n",
          "\n",
          "The range $\\range(A)$ is a subspace of $R^m$, $ie$, it is itself a vector space. Its dimension is the _rank_ of $A$, denoted $\\rank(A)$. The rank of $A$ can never be greater than the\n",
          "minimum of $m$ and $n$. We say $A$ has _full rank_ if $\\rank(A) = \\min\\{m, n\\}$.\n",
          "The _nullspace_ (or _kernel_) of $A$, denoted $\\null(A)$, is the set of all vectors $x$ mapped\n",
          "into zero by $A$:\n",
          "\n",
          "$$\n",
          "  \\null(A) = \\{x \\ | \\ Ax = 0\\}\n",
          "$$\n",
          "\n",
          "The nullspace is a subspace of $\\R^n$."
        ]
      },
      {
        "cell_type": "markdown",
        "metadata": {
          "id": "oXznANLD-Ec1"
        },
        "source": [
          "<br>\n",
          "\n",
          "### Rank\n",
          "\n",
          "We define the rank of $A\\in\\R^{m\\times n} as\n",
          "\n",
          "$$\n",
          "\\rank(A) = \\dim \\range(A)\n",
          "$$\n",
          "\n",
          "- $\\rank A = \\rank A^T$\n",
          "- $\\rank A \\le\\min (m,n)$\n",
          "- $\\dim \\range(A) + \\dim \\null(A) = n$\n",
          "\n",
          "- $\\rank(A)$ is dimension of set 'hit' by the mapping $y=Ax$ (the number of degrees of freedom in output $y$)\n",
          "- $\\dim \\null(A)$ is dimension of set of $x$ 'crushed' to zero by $y=Ax$ (the number of degrees of freedom lost in the mapping from $x$ to $y=Ax$)\n",
          "\n"
        ]
      },
      {
        "cell_type": "markdown",
        "metadata": {
          "id": "buvaEVLJeuBa"
        },
        "source": [
          "<br>\n",
          "\n",
          "### Orthogonal decomposition induced by $A$\n",
          "\n",
          "If $\\mc{V}$ is a subspace of $\\R^n$, its _orthogonal complement_, denoted $\\mc{V}^\\perp$, is defined as\n",
          "\n",
          "$$\n",
          "  \\mc{V}^\\perp = \\{ x \\ | \\ z^Tx = 0, \\forall z\\in\\mc{V} \\}\n",
          "$$\n",
          "\n",
          "(As one would expect of a complement, we have $\\mc{V}^{\\perp\\perp} = \\mc{V}$.)\n",
          "\n",
          "A basic result of linear algebra is that, for any $A \\in\\R^{m\\times n}$, we have that\n",
          "\n",
          "$$\n",
          "  \\null(A) = \\range(A^T)^\\perp\n",
          "$$\n",
          "\n",
          "Applying the result to $A^T$ we also have \n",
          "\n",
          "$$\n",
          "  \\range(A) = \\null(A^T)^\\perp\n",
          "$$\n",
          "\n",
          "This result is often stated as\n",
          "\n",
          "$$\n",
          "  \\null(A) \\overset{\\perp}{\\oplus} \n",
          "  \\range(A^T) = \\R^n\n",
          "$$\n",
          "\n",
          "Here the symbol $\\overset{\\perp}{\\oplus}$ refers to orthogonal direct sum, $\\ie$, the sum of two subspaces\n",
          "that are orthogonal. The above decomposition of $\\R^n$\n",
          "is called the orthogonal decomposition induced by $A$."
        ]
      },
      {
        "cell_type": "markdown",
        "metadata": {
          "id": "djfjEacKeuJ8"
        },
        "source": [
          "<br>\n",
          "\n",
          "## Symmetric eigenvalue decomposition\n",
          "\n",
          "<br>\n",
          "\n",
          "### Eigenvalues and eigenvectors of symmetric matrices\n",
          "If $A\\in\\R^{n\\times n}$ is symmetric, i.e., $A=A^T$, then\n",
          "- the eigenvalues of $A$ are all real\n",
          "- there is a set of $n$ orthonormal eigenvectors of $A$ \n",
          "\n",
          "<br> \n",
          "\n",
          "### Spectral decomposition\n",
          "\n",
          "Suppose $A\\in \\SM^n$. Then $A$ can be factored as\n",
          "\n",
          "$$\n",
          "  A = Q\\Lambda Q^T\n",
          "$$\n",
          "\n",
          "where $Q\\in\\R^{n\\times n}$ is _orthogonal_, _i.e._, satisfies $Q^T Q = I$, and $\\Lambda = \\diag(\\lambda_1,\\ldots , \\lambda_n)$. The (real) numbers $\\lambda_i$ are the _eigenvalues_ of $A$, and are the roots of the _characteristic polynomial_ $\\det(sI - A)$. The columns of $Q$ form an orthonormal set of _eigenvectors_ of $A$, i.e., $Q = \\bmat{q_1 & \\dots & q_n}$. The above factorization is called the _spectral decomposition_ or\n",
          "(symmetric) _eigenvalue decomposition_ of $A$.\n",
          "\n",
          "Multiplication by $A$ is the same as\n",
          "- rotate by $Q^T$\n",
          "- diagonal real scale ('dilation') by $\\Lambda$\n",
          "- rotate back by $Q$\n",
          "\n",
          "We order the eigenvalues as $\\lambda_1 \\ge \\lambda_2 \\ge \\cdots \\ge \\lambda_n$. We use the notation $\\lambda_i(A)$ to refer to the $i$th largest eigenvalue of $A\\in\\SM$. We usually write the largest or\n",
          "maximum eigenvalue as $\\lambda_1(A) = \\lambda_\\max(A)$, and the least or minimum eigenvalue as\n",
          "$\\lambda_n(A) = \\lambda_\\min(A)$.\n",
          "\n",
          "The determinant and trace can be expressed in terms of the eigenvalues,\n",
          "\n",
          "$$\n",
          "\\begin{align*}\n",
          "\\det A &= \\prod_i \\lambda_i \\\\\n",
          "\\tr A &= \\sum_i \\lambda_i \n",
          "\\end{align*}\n",
          "$$\n",
          "\n",
          "as can the spectral and Frobenius norms,\n",
          "\n",
          "$$\n",
          "\\begin{align*}\n",
          "\\|A\\|_2 &= \\max_i |\\lambda_i| \\\\\n",
          "\\|A\\|_F &= \\left(\\sum_i  \\lambda_i^2 \\right)^{1/2}\n",
          "\\end{align*}\n",
          "$$\n"
        ]
      },
      {
        "cell_type": "code",
        "metadata": {
          "id": "6ZOoCqTkd7GR",
          "colab": {
            "base_uri": "https://localhost:8080/",
            "height": 73
          },
          "outputId": "01d908a3-8c47-4d60-8bd1-6a13fc1f808f"
        },
        "source": [
          "np.random.seed(786)\n",
          "B = np.random.randn(5,5)   # B not symmetric\n",
          "X = np.random.randn(5,5)\n",
          "A = X + X.T   # A symmetric\n",
          "\n",
          "evalB, evecB = np.linalg.eig(B)\n",
          "evalA, evecA = np.linalg.eig(A)\n",
          "print (evalB)   # these can be complex\n",
          "print (evalA)   # these should be all real"
        ],
        "execution_count": null,
        "outputs": [
          {
            "output_type": "stream",
            "text": [
              "[-1.73065369+1.072814j   -1.73065369-1.072814j    2.36025276+2.30625654j\n",
              "  2.36025276-2.30625654j  0.95377092+0.j        ]\n",
              "[-7.29430126 -4.51876145  5.08518425  2.81815644  2.07363051]\n"
            ],
            "name": "stdout"
          }
        ]
      },
      {
        "cell_type": "markdown",
        "metadata": {
          "id": "1bVqOOl1DCgP"
        },
        "source": [
          "<br> \n",
          "\n",
          "### Quadratic forms\n",
          "\n",
          "A quadratic form is a function $f: \\R^n \\rightarrow R$ of the form\n",
          "\n",
          "$$\n",
          "f(x) = x^T Ax = \\sum_{i,j} A_{ij}x_i x_j\n",
          "$$\n",
          "\n",
          "and the following holds:\n",
          "\n",
          "$$\n",
          "\\lambda_n x^Tx \\le x^T A x \\le \\lambda_1 x^T x\n",
          "$$\n"
        ]
      },
      {
        "cell_type": "markdown",
        "metadata": {
          "id": "w0pvhPJ_EVaf"
        },
        "source": [
          "<br>\n",
          "\n",
          "### Definiteness and matrix inequalities\n",
          "\n",
          "The largest and smallest eigenvalues satisfy\n",
          "\n",
          "$$\n",
          "\\begin{align*}\n",
          "\\lambda_\\max(A) &= \\sup_{x\\neq 0}\\frac{x^TAx}{x^Tx}\\\\\n",
          "\\lambda_\\min(A) &= \\inf_{x\\neq 0}\\frac{x^TAx}{x^Tx}\n",
          "\\end{align*}\n",
          "$$\n",
          "\n",
          "In particular, for any $x$, we have with both inequalities tight for (different) choices of $x$.\n",
          "\n",
          "A matrix $A\\in\\SM^n$is called _positive definite_ if for all $x\\neq0$, $x^TAx > 0$. \n",
          "We denote this as $A \\succ 0$. By the inequality above, we see that $A \\succ 0$ if and only all its eigenvalues are positive, _i.e._, $\\lambda_\\min(A) > 0$. If $-A$ is positive definite, we say $A$ is _negative definite_, which we write as $A\\prec0$. We use $\\SM^n_{++}$ to denote the set of positive definite matrices in $\\SM^n$.\n",
          "\n",
          "If $A$ satisfies $x^T Ax \\ge 0$ for all $x$, we say that $A$ is _positive semidefinite_. If $-A$ is positive semidefinite, _i.e._, if $x^T Ax \\le 0$ for all $x$, we say that $A$ is _negative semidefinite_. We use $\\SM^n_+$ to denote the set of positicve semidefinite matrices in $\\SM^n$.\n",
          "\n",
          "For $A,B\\in\\SM^n$, we use $A\\prec B$ to mean $B−A\\succ0$, and so on. These inequalities are called _matrix inequalities_, or generalized inequalities associated with the positive semidefinite cone.\n",
          "\n"
        ]
      },
      {
        "cell_type": "markdown",
        "metadata": {
          "id": "fkvoJDPPJxWA"
        },
        "source": [
          "<br>\n",
          "\n",
          "### Symmetric squareroot\n",
          "\n",
          "Let $A\\in\\SM^n_+$, with eigenvalue decomposition $A = Q \\diag(\\lambda_1,\\dots , \\lambda_n)Q^T$. We define the (symmetric) squareroot of $A$ as\n",
          "\n",
          "$$\n",
          "  A^{1/2} =Q\\diag(\\lambda^{1/2}_1,\\dots,\\lambda^{1/2}_n)Q^T\n",
          "$$\n",
          "\n",
          "The squareroot $A^{1/2}$ is the unique symmetric positive semidefinite solution of the equation $X^2 = A$."
        ]
      },
      {
        "cell_type": "markdown",
        "metadata": {
          "id": "r1BGlAysVAKv"
        },
        "source": [
          "<br>\n",
          "\n",
          "## Singular value decomposition\n",
          "\n",
          "Suppose $A\\in\\R^{m\\times n}$ with $\\rank A = r$. Then $A$ can be factored as\n",
          "\n",
          "$$\n",
          "  A = U \\Sigma V^T\n",
          "$$\n",
          "\n",
          "where $U\\in\\R^{m\\times r}$ satisfies $U^TU =I$, $V\\in\\R^{n\\times r}$ satisfies $V^TV =I$, and $\\Sigma= \\diag(\\sigma_1,\\dots, \\sigma_r)$, with\n",
          "\n",
          "$$\n",
          "  \\sigma_1 \\ge \\sigma_2 \\ge \\cdots \\ge \\sigma_r > 0\n",
          "$$\n",
          "\n",
          "The factorization is called the _(compact) singular value decomposition_ (SVD) of $A$.\n",
          "The columns of $U$ are called _left singular vectors_ of $A$, the columns of $V$ are _right singular vectors_, and the numbers $\\sigma_i$ are the _singular values_. The singular value decomposition can be written\n",
          "\n",
          "$$\n",
          "  A = \\sum_i^r \\sigma_i u_i v_i^T\n",
          "$$\n",
          "\n",
          "where $u_i\\in\\R^m$ are the left singular vectors, and $v_i\\in\\R^n$ are the right singular vectors.\n",
          "\n",
          "The singular value decomposition of a matrix $A$ is closely related to the eigenvalue decomposition of the (symmetric, positive semidefinite) matrix $A^T A$. We can write\n",
          "\n",
          "$$\n",
          "  A^TA=V\\Sigma^2V^T=\\bmat{V & V^\\perp} \\bmat{\\Sigma^2 & 0 \\\\ 0 & 0} \\bmat{V & V^\\perp}^T\n",
          "$$\n",
          "\n",
          "where $V^\\perp$ is any matrix for which $\\bmat{V & V^\\perp}$ is orthogonal. The righthand expression is the eigenvalue decomposition of $A^T A$, so we conclude that its nonzero eigenvalues are the singular values of $A$ squared, and the associated eigenvectors of $A^T A$ are the right singular vectors of $A$. A similar analysis of $AA^T$ shows that its nonzero eigenvalues are also the squares of the singular values of $A$, and the associated eigenvectors are the left singular vectors of $A$.\n",
          "\n",
          "The first or largest singular value is also written as $\\sigma_\\max(A)$. It can be expressed\n",
          " as\n",
          "\n",
          "$$\n",
          "\\begin{align*}\n",
          "\\sigma_\\max(A) &= \\sup_{x,y\\neq 0}\\frac{x^TAy}{\\|x\\|_2\\|y\\|_2}\n",
          "= \\sup_{y\\neq 0}\\frac{\\|Ay\\|_2}{\\|y\\|_2}\n",
          "\\end{align*}\n",
          "$$\n",
          "\n",
          "The righthand expression shows that the maximum singular value is the $\\ell_2$ operator norm of $A$. The _minimum singular value_ of $A\\in\\R^{m\\times n}$ is given by\n",
          "\n",
          "$$\n",
          "\\sigma_\\min(A) = \\begin{cases}\n",
          "\\sigma_r(A)  & r=\\min\\{m,n\\}\\\\\n",
          "0 & r<\\min\\{m,n\\}\n",
          "\\end{cases}\n",
          "$$\n",
          "\n",
          "which is positive if and only if $A$ is full rank.\n",
          "\n",
          "The singular values of a symmetric matrix are the absolute values of its nonzero\n",
          "eigenvalues, sorted into descending order. The singular values of a symmetric positive semidefinite matrix are the same as its nonzero eigenvalues.\n",
          "\n",
          "The condition number of a nonsingular $A\\in\\R^{n \\times n}$, denoted $\\cond(A)$ or $\\kappa(A)$, is defined as\n",
          "\n",
          "$$\n",
          "  \\cond(A) = \\|A\\|_2\\|A^{-1}\\|_2 = \\frac{\\sigma_\\max(A)}{\\sigma_\\min(A)}\n",
          "$$\n",
          "\n"
        ]
      },
      {
        "cell_type": "markdown",
        "metadata": {
          "id": "qIRcCeuAg0el"
        },
        "source": [
          "<br>\n",
          "\n",
          "### Operator norms\n",
          "\n",
          "Suppose $\\|\\cdot\\|_a$ and $\\|\\cdot\\|_b$ are norms on $\\R^m$ and $\\R^n$, respectively. We define the _operator norm_ of $X\\in\\R^{m\\times n}$, induced by the norms $\\|\\cdot\\|_a$ and $\\|\\cdot\\|_b$, as\n",
          "\n",
          "$$\n",
          " \\|X\\|_{a,b} = \\sup \\{\\|Xu\\|_a \\ |\\ \\|u\\|_b\\le 1\\} \n",
          "$$\n",
          "\n",
          "When$\\|\\cdot\\|_a$ and $\\|\\cdot\\|_b$ are both Euclidean norms, the operator norm of $X$ is its _maximum singular value_, and is denoted $\\|X\\|_2$:\n",
          "\n",
          "$$\n",
          "  \\|X\\|_2 = \\sigma_\\max (X) = \\left( \\lambda_\\max (X^TX)\\right)^{1/2}\n",
          "$$\n",
          "\n",
          "(This agrees with the Euclidean norm on $\\R^m$, when $X\\in\\R^m$, so there is no clash of notation.) This norm is also called the _spectral norm_ or $\\ell_2$_-norm_ of $X$.\n",
          "As another example, the norm induced by the $\\ell_\\infty$-norm on $\\R^m$ and $\\R^n$, denoted $\\|X\\|_\\infty$, is the _max-row-sum_ norm,\n",
          "\n",
          "$$\n",
          " \\|X\\|_\\infty = \\sup \\{\\|Xu\\|_\\infty \\ |\\ \\|u\\|_\\infty\\le 1\\} = \\max_i \\sum_j |X_{ij}|\n",
          "$$\n",
          "\n",
          "The norm induced by the $\\ell_1$-norm on $\\R^m$ and $\\R^n$, denoted $\\|X\\|_1$, is the _max-column-sum_ norm,\n",
          "\n",
          "$$\n",
          " \\|X\\|_1 = \\sup \\{\\|Xu\\|_1 \\ |\\ \\|u\\|_1\\le 1\\} = \\max_j \\sum_i |X_{ij}|\n",
          "$$\n"
        ]
      },
      {
        "cell_type": "code",
        "metadata": {
          "id": "8QWhbHUcklmW",
          "colab": {
            "base_uri": "https://localhost:8080/",
            "height": 34
          },
          "outputId": "6e275149-16c2-454b-e9ff-bff724a02b4c"
        },
        "source": [
          "import numpy as np\n",
          "\n",
          "X = np.random.randn(5,4) \n",
          "#print (X)\n",
          "eigval, eigvec = np.linalg.eig(X@X.T)\n",
          "\n",
          "UU, SS, VV = np.linalg.svd(X)\n",
          "\n",
          "print(SS)"
        ],
        "execution_count": null,
        "outputs": [
          {
            "output_type": "stream",
            "text": [
              "[2.33046043 1.60277627 1.04214624 0.67867793]\n"
            ],
            "name": "stdout"
          }
        ]
      },
      {
        "cell_type": "code",
        "metadata": {
          "id": "uyMWZ54Kno2P",
          "colab": {
            "base_uri": "https://localhost:8080/",
            "height": 223
          },
          "outputId": "a787bc11-f465-416d-f1c5-6ebb3fc12eba"
        },
        "source": [
          "X = np.random.randn(5,4) \n",
          "print (X)\n",
          "eval, evec = np.linalg.eig(X.T@X)\n",
          "print (np.sqrt(eval))\n",
          "print (np.linalg.norm(X,2))\n",
          "\n",
          "print (np.sum(abs(X), axis=1))\n",
          "print (np.linalg.norm(X,np.inf))\n",
          "\n",
          "print (np.sum(abs(X), axis=0))\n",
          "print (np.linalg.norm(X,1))"
        ],
        "execution_count": null,
        "outputs": [
          {
            "output_type": "stream",
            "text": [
              "[[ 0.09348062 -1.82502032  1.9906909   0.81100615]\n",
              " [ 2.36785025 -0.38802784 -2.17413427 -1.16184436]\n",
              " [-0.27945474  0.08232927  0.55931401  0.006406  ]\n",
              " [-0.23751882  2.77251093  1.32812058  0.92573163]\n",
              " [ 0.3770558   0.091086   -0.20675274  1.18275596]]\n",
              "[4.20435996 1.65551408 1.07057649 3.25338682]\n",
              "4.204359956892198\n",
              "[4.72019799 6.09185672 0.92750402 5.26388196 1.8576505 ]\n",
              "6.091856719543058\n",
              "[3.35536023 5.15897436 6.2590125  4.0877441 ]\n",
              "6.259012504344437\n"
            ],
            "name": "stdout"
          }
        ]
      },
      {
        "cell_type": "markdown",
        "metadata": {
          "id": "fEOAx-uRWMQe"
        },
        "source": [
          "<br>\n",
          "\n",
          "### Pseudo-inverse\n",
          "\n",
          "Let $A=U\\Sigma V^T$ be the (compact) singular value decomposition of $A\\in\\R^{m \\times n}$, with $\\rank A=r$. We define the _pseudo-inverse_ or _Moore-Penrose inverse_ of $A$ as\n",
          "\n",
          "$$\n",
          "  A^\\dagger = V \\Sigma^{-1} U^T \\in \\R^{n\\times m}\n",
          "$$\n",
          "\n",
          "Alternative expressions are\n",
          "\n",
          "$$\n",
          "  A^\\dagger = \\lim_{\\epsilon\\rightarrow0} (A^TA+ \\epsilon I)^{-1}A^T = \n",
          "  \\lim_{\\epsilon\\rightarrow0} A^T(AA^T+ \\epsilon I)^{-1}\n",
          "$$\n",
          "\n",
          "where the limits are taken with $\\epsilon > 0$, which ensures that the inverses in the expressions exist. If $\\rank A = n$, then $A^\\dagger = (A^T A)^{-1} A^T$. If $\\rank A = m$, then $A^\\dagger = A^T (AA^T )^{-1}$. If $A$ is square and nonsingular, then $A^\\dagger = A^{-1}$.\n",
          "\n",
          "The pseudo-inverse comes up in problems involving least-squares, minimum norm, quadratic minimization, and (Euclidean) projection. For example, $A^\\dagger b$ is a solution of the least-squares problem\n",
          "\n",
          "$$\n",
          "  \\underset{x}{\\minimize} \\quad \\|Ax-b\\|_2\n",
          "$$\n",
          "\n",
          "in general. When the solution is not unique, $A^\\dagger b$ gives the solution with minimum (Euclidean) norm. As another example, the matrix $A A^\\dagger = UU^T$ gives (Euclidean) projection on $\\range(A)$. The matrix $A^\\dagger A = V V^T$ gives (Euclidean) projection on $\\range(A^T )$.\n",
          "\n",
          "The optimal value $p^*$ of the (general, nonconvex) quadratic optimization problem\n",
          "\n",
          "$$\n",
          "  \\underset{x}{\\minimize} \\quad (1/2)x^TP x + q^T x + r\n",
          "$$\n",
          "\n",
          "where $P\\in\\SM^n$ can be expressed as\n",
          "\n",
          "$$\n",
          "  p^* = \\begin{cases}\n",
          "  -(1/2)q^TP^\\dagger q + r & P \\succeq0, q\\in\\range(P) \\\\\n",
          "  -\\infty & \\text{otherwise}\n",
          "  \\end{cases}\n",
          "$$\n",
          "\n",
          "which generalizes the expression \n",
          "\n",
          "$$\n",
          "  p^* = -(1/2)q^T P^{-1}q + r\n",
          "$$\n",
          "\n",
          "valid for $P \\succ 0$.\n",
          "\n",
          "\n"
        ]
      },
      {
        "cell_type": "markdown",
        "metadata": {
          "id": "MJUY9mEY94Sh"
        },
        "source": [
          "<br>\n",
          "\n",
          "## Schur complement\n",
          "\n",
          "Consider a matrix $X\\in\\SM^n$ partitioned as\n",
          "\n",
          "$$\n",
          "  X = \\bmat{A & B \\\\ B^T & C}\n",
          "$$\n",
          "\n",
          "where $A \\in\\SM^k$. If $\\det A\\neq 0$, the matrix\n",
          "\n",
          "$$\n",
          "  S = C - B^T A^{-1} B\n",
          "$$\n",
          "\n",
          "is called the _Schur complement_ of $A$ in $X$.\n",
          "Schur complements arise in several contexts, and appear in many important formulas and theorems. For example, we have\n",
          "\n",
          "$$\n",
          "  \\det X = \\det A \\det S\n",
          "$$"
        ]
      },
      {
        "cell_type": "markdown",
        "metadata": {
          "id": "khNa32DR-rDs"
        },
        "source": [
          "<br>\n",
          "\n",
          "### Inverse of block matrix\n",
          "\n",
          "The Schur complement comes up in solving linear equations, by eliminating one block of variables. We start with\n",
          "\n",
          "$$\n",
          "  \\bmat{A & B \\\\ B^T & C} \\bmat{x \\\\ y}\n",
          "  = \\bmat{u \\\\v}\n",
          "$$\n",
          "\n",
          "and assume that $\\det A\\neq 0$. If we eliminate $x$ from the top block equation and substitute it into the bottom block equation, we obtain $v = B^T A^{-1}u + Sy$, so\n",
          "\n",
          "$$\n",
          "y = S^{-1}(v - B^T A^{-1}u)\n",
          "$$\n",
          "\n",
          "Substituting this into the first equation yields\n",
          "\n",
          "$$\n",
          "  x = \\left( A^{-1} + A^{-1}BS^{-1}B^T A^{-1} \\right)u - A^{-1}BS^{-1}v\n",
          "$$\n",
          "\n",
          "We can express these two equations as a formula for the inverse of a block matrix:\n",
          "\n",
          "$$\n",
          "\\bmat{A & B \\\\ B^T & C}^{-1} =\n",
          "\\bmat{ A^{-1} + A^{-1}BS^{-1}B^TA^{-1} & -A^{-1}BS^{-1} \\\\ -S^{-1}B^TA^{-1} & S^{-1}}\n",
          "$$\n",
          "\n",
          "In particular, we see that the Schur complement is the inverse of the $(2,2)$ block entry of the inverse of $X$."
        ]
      },
      {
        "cell_type": "markdown",
        "metadata": {
          "id": "XVZbplyRD_gr"
        },
        "source": [
          "<br>\n",
          "\n",
          "### Minimization and definiteness\n",
          "\n",
          "The Schur complement arises when you minimize a quadratic form over some of the variables. Suppose $A \\succ 0$, and consider the minimization problem\n",
          "\n",
          "$$\n",
          "\\underset{u}{\\minimize} \\quad u^T Au + 2v^T B^T u + v^T Cv \n",
          "$$\n",
          "\n",
          "which is equal to \n",
          "\n",
          "$$\n",
          "\\underset{u}{\\minimize} \\quad \n",
          "\\bmat{u\\\\v}^T \\bmat{A & B \\\\ B^T & C}\n",
          "\\bmat{u\\\\v}\n",
          "$$\n",
          "\n",
          "The optimal solution is $u = -A^{-1}Bv$, and the optimal value is $v^T S v$.\n",
          "\n",
          "From this we can derive the following characterizations of positive definiteness or semidefiniteness of the block matrix $X$:\n",
          "\n",
          "- $X\\succ0$ if and only if $A\\succ0$ and $S\\succ0$\n",
          "- If $A\\succ0$, then $X\\succeq0$ if and only if $S\\succeq0$"
        ]
      },
      {
        "cell_type": "markdown",
        "metadata": {
          "id": "kA0UhmuGMZpd"
        },
        "source": [
          "<br>\n",
          "\n",
          "### Schur complement with singular $A$\n",
          "\n",
          "Some Schur complement results have generalizations to the case when $A$ is singular, although the details are more complicated. As an example, if $A\\succeq0$ and $Bv\\in\\range(A)$, then the above quadratic minimization problem (with variable u) is solvable, and has optimal value\n",
          "\n",
          "$$\n",
          "  v^T \\left(C - B^T A^\\dagger B\\right)v\n",
          "$$\n",
          "\n",
          "where $A^\\dagger$ is the pseudo-inverse of $A$. The problem is unbounded if $Bv$ is not in the range of $A$, or $A$ is not positive semidefinite.\n",
          "\n",
          "The range condition $Bv \\in\\range(A)$ can also be expressed as $(I - AA^\\dagger)Bv = 0$, so we have the following characterization of positive semidefiniteness of the block matrix $X$:\n",
          "\n",
          "$$\n",
          "  X\\succeq0 \\quad\\Longleftrightarrow\\quad A\\succeq0, \\quad (I-AA^\\dagger)B=0, \\quad C-B^TA^\\dagger B\\succeq 0\n",
          "$$\n",
          "\n",
          "Here the matrix $C - B^T A^\\dagger B$ serves as a generalization of the Schur complement, when $A$ is singular. \n",
          "\n"
        ]
      },
      {
        "cell_type": "markdown",
        "metadata": {
          "id": "bFCFP1Jgdwvi"
        },
        "source": [
          "<br>\n",
          "\n",
          "## Derivatives\n",
          "\n",
          "### Derivative\n",
          "\n",
          "Suppose $f:\\R^n\\rightarrow\\R^m$. The _derivative (or Jacobian)_ of $f$ at $x$ is the matrix $Df(x)\\in\\R^{m\\times n}$, given by\n",
          "\n",
          "$$\n",
          "  Df(x)_{ij} = \\frac{\\partial f_i(x)}{\\partial x_j}, \\qquad\\qquad i=1,\\dots,m, \\quad j=1,\\dots,n\n",
          "$$\n",
          "\n",
          "provided the partial derivatives exist.\n",
          "\n",
          "The affine function of $x$ given by\n",
          "\n",
          "$$\n",
          "  \\hat{f}(x) = f(x_0) + Df(x_0)(x-x_0)\n",
          "$$\n",
          "\n",
          "is called the _first-order approximation_ of $f$ at (or near) $x_0$.\n",
          "\n",
          "\n"
        ]
      },
      {
        "cell_type": "markdown",
        "metadata": {
          "id": "O2twzSh5meoK"
        },
        "source": [
          ""
        ]
      },
      {
        "cell_type": "markdown",
        "metadata": {
          "id": "TMMbhNB8fY1H"
        },
        "source": [
          "<br> \n",
          "\n",
          "### Gradient\n",
          "\n",
          "When $f$ is real-valued ($\\ie$, $f: \\R^n \\rightarrow \\R$), the derivative $Df(x)$ is a $1\\times n$ matrix (a row vector). Its transpost is called the _gradient$ of the function:\n",
          "\n",
          "$$\n",
          "  \\nabla f(x) = Df(x)^T\n",
          "$$\n",
          "\n",
          "which is a column vector in $\\R^n$, and its components are the partial derivatives of $f$:\n",
          "\n",
          "$$\n",
          "  \\nabla f(x)_i = \\frac{\\partial f(x)}{\\partial x_i}, \\qquad i=1,\\dots,n.\n",
          "$$\n",
          "\n",
          "The first-order approximation of $f$ at a point $x_0$ can be expressed as an affine functions of $x$:\n",
          "\n",
          "$$\n",
          "  \\hat{f}(x) = f(x_0) + \\nabla f(x_0)^T (x-x_0)\n",
          "$$"
        ]
      },
      {
        "cell_type": "markdown",
        "metadata": {
          "id": "acDMPPV-ivSc"
        },
        "source": [
          "<br> \n",
          "\n",
          "### Second derivative\n",
          "\n",
          "The second derivative or _Hessian matrix_ of a real-valued function $f: \\R^n \\rightarrow \\R$, denoted $\\nabla^2f(x)$, is given by\n",
          "\n",
          "$$\n",
          "  \\nabla^2f(x)_{ij} = \\frac{\\partial^2 f(x)}{\\partial x_i \\partial x_j}, \\qquad i=1,\\dots,n, \\quad j=1,\\dots,n\n",
          "$$\n",
          "\n",
          "provided $f$ is twice differentiable at $x$. The _second-order approximation_ of $f$ at (or near) $x_0$ is the quadratic function defined by\n",
          "\n",
          "$$\n",
          "  \\hat{f}(x) = f(x_0) + \\nabla f(x_0)^T(x-x_0) + \\frac{1}{2}(x-x_0)^T \\nabla^2 f(x_0) (x-x_0)\n",
          "$$"
        ]
      },
      {
        "cell_type": "markdown",
        "metadata": {
          "id": "z_9XGzs2kSbD"
        },
        "source": [
          "<br> \n",
          "\n",
          "### Examples\n",
          "\n",
          "Affine functions, $f:\\R^n \\rightarrow \\R^m$, $f(x) = A x + b$:\n",
          "\n",
          "$$\n",
          "  Df(x) = A\n",
          "$$\n",
          "\n",
          "Affine functions, $f:\\R^n \\rightarrow \\R$, $f(x) = a^T x + b$:\n",
          "\n",
          "\\begin{align*}\n",
          "  \\nabla f(x) &= a \\\\\n",
          "  \\nabla^2 f(x) &= 0\n",
          "\\end{align*}\n",
          "\n",
          "Quadratic functions, $f:\\R^n \\rightarrow \\R$, $f(x) = \\frac{1}{2}x^T P x $ with $P\\in\\SM$:\n",
          "\n",
          "\\begin{align*}\n",
          "  \\nabla f(x) &= Px \\\\\n",
          "  \\nabla^2 f(x) &= P \n",
          "\\end{align*}\n",
          "\n",
          "<br>\n"
        ]
      }
    ]
  }